{
  "nbformat": 4,
  "nbformat_minor": 0,
  "metadata": {
    "colab": {
      "name": "Untitled3.ipynb",
      "provenance": [],
      "authorship_tag": "ABX9TyMDaHlxnkcSI/S/rHzej7fE",
      "include_colab_link": true
    },
    "kernelspec": {
      "name": "python3",
      "display_name": "Python 3"
    }
  },
  "cells": [
    {
      "cell_type": "markdown",
      "metadata": {
        "id": "view-in-github",
        "colab_type": "text"
      },
      "source": [
        "<a href=\"https://colab.research.google.com/github/kangkanM/my_kitchen/blob/master/topic%20modelling%20using%20LDA(gensim)%20on%20news%20data.ipynb\" target=\"_parent\"><img src=\"https://colab.research.google.com/assets/colab-badge.svg\" alt=\"Open In Colab\"/></a>"
      ]
    },
    {
      "cell_type": "markdown",
      "metadata": {
        "id": "gJ0e9IFUXQeN",
        "colab_type": "text"
      },
      "source": [
        "#Topic modeling using LDA(gensim)#"
      ]
    },
    {
      "cell_type": "markdown",
      "metadata": {
        "id": "1gH9kSSaXfMx",
        "colab_type": "text"
      },
      "source": [
        "data source = https://www.kaggle.com/therohk/million-headlines/data"
      ]
    },
    {
      "cell_type": "code",
      "metadata": {
        "id": "xSsJ10jjXpHE",
        "colab_type": "code",
        "colab": {
          "base_uri": "https://localhost:8080/",
          "height": 68
        },
        "outputId": "ac22ea77-93b9-450e-8e33-c2102dea80a2"
      },
      "source": [
        "import gensim\n",
        "from gensim.utils import simple_preprocess\n",
        "from gensim.parsing.preprocessing import STOPWORDS\n",
        "from nltk.stem import WordNetLemmatizer, SnowballStemmer\n",
        "from nltk.stem.porter import *\n",
        "import numpy as np\n",
        "np.random.seed(2018)\n",
        "import nltk\n",
        "nltk.download('wordnet')"
      ],
      "execution_count": 70,
      "outputs": [
        {
          "output_type": "stream",
          "text": [
            "[nltk_data] Downloading package wordnet to /root/nltk_data...\n",
            "[nltk_data]   Package wordnet is already up-to-date!\n"
          ],
          "name": "stdout"
        },
        {
          "output_type": "execute_result",
          "data": {
            "text/plain": [
              "True"
            ]
          },
          "metadata": {
            "tags": []
          },
          "execution_count": 70
        }
      ]
    },
    {
      "cell_type": "markdown",
      "metadata": {
        "id": "YukEsuWhXzeU",
        "colab_type": "text"
      },
      "source": [
        "loading data\n"
      ]
    },
    {
      "cell_type": "code",
      "metadata": {
        "id": "orkcMIF5C9C7",
        "colab_type": "code",
        "colab": {
          "base_uri": "https://localhost:8080/",
          "height": 204
        },
        "outputId": "7d4eb101-d7aa-4abe-9d62-a16f698ce19d"
      },
      "source": [
        "import pandas as pd\n",
        "data = pd.read_csv('abcnews-date-text.csv', error_bad_lines=False);\n",
        "documents = pd.DataFrame(data.iloc[:,1])\n",
        "documents[\"index\"] = documents.index\n",
        "documents.head()"
      ],
      "execution_count": 21,
      "outputs": [
        {
          "output_type": "execute_result",
          "data": {
            "text/html": [
              "<div>\n",
              "<style scoped>\n",
              "    .dataframe tbody tr th:only-of-type {\n",
              "        vertical-align: middle;\n",
              "    }\n",
              "\n",
              "    .dataframe tbody tr th {\n",
              "        vertical-align: top;\n",
              "    }\n",
              "\n",
              "    .dataframe thead th {\n",
              "        text-align: right;\n",
              "    }\n",
              "</style>\n",
              "<table border=\"1\" class=\"dataframe\">\n",
              "  <thead>\n",
              "    <tr style=\"text-align: right;\">\n",
              "      <th></th>\n",
              "      <th>headline_text</th>\n",
              "      <th>index</th>\n",
              "    </tr>\n",
              "  </thead>\n",
              "  <tbody>\n",
              "    <tr>\n",
              "      <th>0</th>\n",
              "      <td>aba decides against community broadcasting lic...</td>\n",
              "      <td>0</td>\n",
              "    </tr>\n",
              "    <tr>\n",
              "      <th>1</th>\n",
              "      <td>act fire witnesses must be aware of defamation</td>\n",
              "      <td>1</td>\n",
              "    </tr>\n",
              "    <tr>\n",
              "      <th>2</th>\n",
              "      <td>a g calls for infrastructure protection summit</td>\n",
              "      <td>2</td>\n",
              "    </tr>\n",
              "    <tr>\n",
              "      <th>3</th>\n",
              "      <td>air nz staff in aust strike for pay rise</td>\n",
              "      <td>3</td>\n",
              "    </tr>\n",
              "    <tr>\n",
              "      <th>4</th>\n",
              "      <td>air nz strike to affect australian travellers</td>\n",
              "      <td>4</td>\n",
              "    </tr>\n",
              "  </tbody>\n",
              "</table>\n",
              "</div>"
            ],
            "text/plain": [
              "                                       headline_text  index\n",
              "0  aba decides against community broadcasting lic...      0\n",
              "1     act fire witnesses must be aware of defamation      1\n",
              "2     a g calls for infrastructure protection summit      2\n",
              "3           air nz staff in aust strike for pay rise      3\n",
              "4      air nz strike to affect australian travellers      4"
            ]
          },
          "metadata": {
            "tags": []
          },
          "execution_count": 21
        }
      ]
    },
    {
      "cell_type": "markdown",
      "metadata": {
        "id": "l50EWeFxXuYt",
        "colab_type": "text"
      },
      "source": [
        "utility fundtions"
      ]
    },
    {
      "cell_type": "code",
      "metadata": {
        "id": "zO7ghfaEEdmB",
        "colab_type": "code",
        "colab": {}
      },
      "source": [
        "def lemmatize(text):\n",
        "    return WordNetLemmatizer().lemmatize(text, pos='v')\n",
        "def preprocess(text):\n",
        "    result = []\n",
        "    for token in gensim.utils.simple_preprocess(text, min_len= 3):\n",
        "        if token not in gensim.parsing.preprocessing.STOPWORDS:\n",
        "            result.append(lemmatize(token))\n",
        "    return result"
      ],
      "execution_count": 0,
      "outputs": []
    },
    {
      "cell_type": "code",
      "metadata": {
        "id": "0sjAgVlYJ6ED",
        "colab_type": "code",
        "colab": {}
      },
      "source": [
        "processed_docs = documents['headline_text'].map(preprocess)\n",
        "processed_docs[:10]"
      ],
      "execution_count": 0,
      "outputs": []
    },
    {
      "cell_type": "code",
      "metadata": {
        "id": "_VeB_W_7KkJh",
        "colab_type": "code",
        "colab": {}
      },
      "source": [
        "dictionary = gensim.corpora.Dictionary(processed_docs)\n",
        "count = 0\n",
        "for k, v in dictionary.iteritems():\n",
        "    print(k, v)\n",
        "    count += 1\n",
        "    if count > 10:\n",
        "        break"
      ],
      "execution_count": 0,
      "outputs": []
    },
    {
      "cell_type": "code",
      "metadata": {
        "id": "mh-170stKulE",
        "colab_type": "code",
        "colab": {}
      },
      "source": [
        "dictionary.filter_extremes(no_below=15, no_above=0.5, keep_n=100000)"
      ],
      "execution_count": 0,
      "outputs": []
    },
    {
      "cell_type": "code",
      "metadata": {
        "id": "ie8YJ_jSMZ_4",
        "colab_type": "code",
        "colab": {}
      },
      "source": [
        "bow_corpus = [dictionary.doc2bow(doc) for doc in processed_docs]"
      ],
      "execution_count": 0,
      "outputs": []
    },
    {
      "cell_type": "code",
      "metadata": {
        "id": "G0v8XFmsM-Bv",
        "colab_type": "code",
        "colab": {
          "base_uri": "https://localhost:8080/",
          "height": 136
        },
        "outputId": "69a9909f-332b-4826-a26b-3764aa174e4c"
      },
      "source": [
        "bow_doc_4310 = bow_corpus[4310]\n",
        "for i in range(len(bow_doc_4310)):\n",
        "    print(\"Word {} (\\\"{}\\\") appears {} time.\".format(bow_doc_4310[i][0], \n",
        "                                               dictionary[bow_doc_4310[i][0]], \n",
        "bow_doc_4310[i][1]))"
      ],
      "execution_count": 50,
      "outputs": [
        {
          "output_type": "stream",
          "text": [
            "Word 175 (\"govt\") appears 1 time.\n",
            "Word 260 (\"group\") appears 1 time.\n",
            "Word 314 (\"vote\") appears 1 time.\n",
            "Word 644 (\"local\") appears 1 time.\n",
            "Word 923 (\"want\") appears 1 time.\n",
            "Word 4091 (\"compulsory\") appears 1 time.\n",
            "Word 4092 (\"ratepayers\") appears 1 time.\n"
          ],
          "name": "stdout"
        }
      ]
    },
    {
      "cell_type": "code",
      "metadata": {
        "id": "0IFvTuRDN45f",
        "colab_type": "code",
        "colab": {}
      },
      "source": [
        "lda_model = gensim.models.LdaMulticore(bow_corpus, num_topics=10, id2word=dictionary, passes=2, workers=2)"
      ],
      "execution_count": 0,
      "outputs": []
    },
    {
      "cell_type": "code",
      "metadata": {
        "id": "g0Oj0w-eOyID",
        "colab_type": "code",
        "colab": {
          "base_uri": "https://localhost:8080/",
          "height": 377
        },
        "outputId": "4ecaf51e-0ed2-419a-ede5-b979e637b7dc"
      },
      "source": [
        "for idx, topic in lda_model.print_topics(-1):\n",
        "    print('Topic: {} \\nWords: {}'.format(idx, topic))"
      ],
      "execution_count": 57,
      "outputs": [
        {
          "output_type": "stream",
          "text": [
            "Topic: 0 \n",
            "Words: 0.023*\"government\" + 0.013*\"new\" + 0.013*\"school\" + 0.012*\"say\" + 0.012*\"abc\" + 0.011*\"cut\" + 0.010*\"job\" + 0.009*\"minister\" + 0.008*\"morrison\" + 0.008*\"turnbull\"\n",
            "Topic: 1 \n",
            "Words: 0.016*\"miss\" + 0.010*\"flood\" + 0.010*\"age\" + 0.010*\"search\" + 0.010*\"nrl\" + 0.009*\"victorian\" + 0.009*\"hobart\" + 0.008*\"ban\" + 0.008*\"afl\" + 0.008*\"sydney\"\n",
            "Topic: 2 \n",
            "Words: 0.025*\"election\" + 0.022*\"queensland\" + 0.013*\"tasmania\" + 0.012*\"nsw\" + 0.012*\"speak\" + 0.012*\"work\" + 0.011*\"country\" + 0.011*\"power\" + 0.010*\"end\" + 0.010*\"drum\"\n",
            "Topic: 3 \n",
            "Words: 0.024*\"win\" + 0.020*\"market\" + 0.018*\"die\" + 0.017*\"world\" + 0.014*\"cup\" + 0.012*\"bank\" + 0.011*\"take\" + 0.009*\"train\" + 0.009*\"beat\" + 0.008*\"scott\"\n",
            "Topic: 4 \n",
            "Words: 0.043*\"australia\" + 0.020*\"day\" + 0.018*\"south\" + 0.017*\"china\" + 0.016*\"north\" + 0.015*\"test\" + 0.010*\"west\" + 0.009*\"war\" + 0.008*\"australias\" + 0.008*\"rescue\"\n",
            "Topic: 5 \n",
            "Words: 0.018*\"health\" + 0.016*\"federal\" + 0.012*\"gold\" + 0.012*\"help\" + 0.012*\"coast\" + 0.009*\"public\" + 0.009*\"say\" + 0.009*\"michael\" + 0.009*\"violence\" + 0.009*\"png\"\n",
            "Topic: 6 \n",
            "Words: 0.025*\"man\" + 0.018*\"crash\" + 0.016*\"news\" + 0.015*\"live\" + 0.015*\"kill\" + 0.015*\"canberra\" + 0.015*\"shoot\" + 0.014*\"jail\" + 0.014*\"perth\" + 0.014*\"years\"\n",
            "Topic: 7 \n",
            "Words: 0.048*\"australian\" + 0.024*\"donald\" + 0.015*\"interview\" + 0.014*\"break\" + 0.013*\"release\" + 0.012*\"climate\" + 0.012*\"change\" + 0.011*\"water\" + 0.011*\"save\" + 0.010*\"open\"\n",
            "Topic: 8 \n",
            "Words: 0.037*\"police\" + 0.027*\"court\" + 0.022*\"charge\" + 0.018*\"murder\" + 0.018*\"face\" + 0.016*\"man\" + 0.014*\"accuse\" + 0.012*\"high\" + 0.012*\"death\" + 0.012*\"trial\"\n",
            "Topic: 9 \n",
            "Words: 0.037*\"trump\" + 0.012*\"rural\" + 0.012*\"plan\" + 0.012*\"royal\" + 0.010*\"council\" + 0.010*\"deal\" + 0.010*\"commission\" + 0.010*\"farmers\" + 0.009*\"price\" + 0.009*\"business\"\n"
          ],
          "name": "stdout"
        }
      ]
    },
    {
      "cell_type": "markdown",
      "metadata": {
        "id": "2VK2pQYdSA8d",
        "colab_type": "text"
      },
      "source": [
        "###Running LDA with TF-IDF###"
      ]
    },
    {
      "cell_type": "code",
      "metadata": {
        "id": "-ZMu2Pf5S7k2",
        "colab_type": "code",
        "colab": {}
      },
      "source": [
        "from gensim import corpora, models\n",
        "tfidf = models.TfidfModel(bow_corpus)\n",
        "corpus_tfidf = tfidf[bow_corpus]\n",
        "from pprint import pprint\n",
        "for doc in corpus_tfidf:\n",
        "    pprint(doc)\n",
        "    break"
      ],
      "execution_count": 0,
      "outputs": []
    },
    {
      "cell_type": "code",
      "metadata": {
        "id": "7w17hOjbQs0j",
        "colab_type": "code",
        "colab": {
          "base_uri": "https://localhost:8080/",
          "height": 207
        },
        "outputId": "380c9917-234d-4df3-dc37-6e874df66c05"
      },
      "source": [
        "lda_model_tfidf = gensim.models.LdaMulticore(corpus_tfidf, num_topics=10, id2word=dictionary, passes=2, workers=4)\n",
        "for idx, topic in lda_model_tfidf.print_topics(-1):\n",
        "    print('Topic: {} Word: {}'.format(idx, topic))"
      ],
      "execution_count": 58,
      "outputs": [
        {
          "output_type": "stream",
          "text": [
            "Topic: 0 Word: 0.009*\"australia\" + 0.009*\"world\" + 0.008*\"cup\" + 0.008*\"win\" + 0.006*\"day\" + 0.005*\"korea\" + 0.005*\"test\" + 0.005*\"australian\" + 0.005*\"cricket\" + 0.005*\"ash\"\n",
            "Topic: 1 Word: 0.024*\"trump\" + 0.009*\"abc\" + 0.008*\"climate\" + 0.007*\"abuse\" + 0.006*\"morrison\" + 0.006*\"royal\" + 0.006*\"commission\" + 0.006*\"mother\" + 0.006*\"sex\" + 0.006*\"peter\"\n",
            "Topic: 2 Word: 0.020*\"man\" + 0.015*\"police\" + 0.013*\"charge\" + 0.011*\"crash\" + 0.011*\"murder\" + 0.011*\"woman\" + 0.008*\"court\" + 0.008*\"car\" + 0.008*\"death\" + 0.008*\"shoot\"\n",
            "Topic: 3 Word: 0.008*\"friday\" + 0.006*\"finance\" + 0.005*\"coal\" + 0.005*\"april\" + 0.004*\"cattle\" + 0.004*\"kohler\" + 0.004*\"port\" + 0.004*\"new\" + 0.004*\"mix\" + 0.004*\"social\"\n",
            "Topic: 4 Word: 0.015*\"drum\" + 0.009*\"monday\" + 0.008*\"grandstand\" + 0.008*\"stories\" + 0.007*\"michael\" + 0.006*\"june\" + 0.005*\"december\" + 0.005*\"quiz\" + 0.005*\"outback\" + 0.005*\"attempt\"\n",
            "Topic: 5 Word: 0.011*\"market\" + 0.009*\"price\" + 0.007*\"turnbull\" + 0.006*\"wall\" + 0.006*\"weather\" + 0.006*\"australian\" + 0.006*\"share\" + 0.005*\"rise\" + 0.005*\"october\" + 0.004*\"fall\"\n",
            "Topic: 6 Word: 0.011*\"country\" + 0.010*\"government\" + 0.008*\"hour\" + 0.008*\"health\" + 0.006*\"federal\" + 0.006*\"election\" + 0.006*\"fund\" + 0.005*\"budget\" + 0.005*\"nsw\" + 0.005*\"labor\"\n",
            "Topic: 7 Word: 0.011*\"interview\" + 0.009*\"afl\" + 0.008*\"nrl\" + 0.006*\"league\" + 0.005*\"andrew\" + 0.005*\"footage\" + 0.005*\"market\" + 0.004*\"dairy\" + 0.004*\"extend\" + 0.004*\"paul\"\n",
            "Topic: 8 Word: 0.018*\"news\" + 0.011*\"rural\" + 0.009*\"coast\" + 0.007*\"wednesday\" + 0.007*\"national\" + 0.005*\"jam\" + 0.005*\"violence\" + 0.005*\"domestic\" + 0.005*\"nsw\" + 0.005*\"north\"\n",
            "Topic: 9 Word: 0.014*\"donald\" + 0.008*\"tuesday\" + 0.008*\"john\" + 0.007*\"thursday\" + 0.004*\"abbott\" + 0.004*\"capital\" + 0.004*\"data\" + 0.004*\"hill\" + 0.004*\"bushfire\" + 0.004*\"aboriginal\"\n"
          ],
          "name": "stdout"
        }
      ]
    },
    {
      "cell_type": "code",
      "metadata": {
        "id": "0V_RqVvVVwMk",
        "colab_type": "code",
        "colab": {
          "base_uri": "https://localhost:8080/",
          "height": 34
        },
        "outputId": "87f5f4d6-b327-4746-80b1-2039865f90b5"
      },
      "source": [
        "processed_docs[43]"
      ],
      "execution_count": 66,
      "outputs": [
        {
          "output_type": "execute_result",
          "data": {
            "text/plain": [
              "['die', 'korean', 'subway', 'passengers', 'phone', 'help']"
            ]
          },
          "metadata": {
            "tags": []
          },
          "execution_count": 66
        }
      ]
    },
    {
      "cell_type": "code",
      "metadata": {
        "id": "BIeQFT_ySG6W",
        "colab_type": "code",
        "colab": {
          "base_uri": "https://localhost:8080/",
          "height": 547
        },
        "outputId": "f4113b24-e7cb-4a56-c61d-5ba6a4a07fed"
      },
      "source": [
        "\n",
        "for index, score in sorted(lda_model[bow_corpus[43]], key=lambda tup: -1*tup[1]):\n",
        "    print(\"\\nScore: {}\\t \\nTopic: {}\".format(score, lda_model.print_topic(index, 10)))"
      ],
      "execution_count": 67,
      "outputs": [
        {
          "output_type": "stream",
          "text": [
            "\n",
            "Score: 0.29999998211860657\t \n",
            "Topic: 0.025*\"election\" + 0.022*\"queensland\" + 0.013*\"tasmania\" + 0.012*\"nsw\" + 0.012*\"speak\" + 0.012*\"work\" + 0.011*\"country\" + 0.011*\"power\" + 0.010*\"end\" + 0.010*\"drum\"\n",
            "\n",
            "Score: 0.15714289247989655\t \n",
            "Topic: 0.024*\"win\" + 0.020*\"market\" + 0.018*\"die\" + 0.017*\"world\" + 0.014*\"cup\" + 0.012*\"bank\" + 0.011*\"take\" + 0.009*\"train\" + 0.009*\"beat\" + 0.008*\"scott\"\n",
            "\n",
            "Score: 0.15714287757873535\t \n",
            "Topic: 0.043*\"australia\" + 0.020*\"day\" + 0.018*\"south\" + 0.017*\"china\" + 0.016*\"north\" + 0.015*\"test\" + 0.010*\"west\" + 0.009*\"war\" + 0.008*\"australias\" + 0.008*\"rescue\"\n",
            "\n",
            "Score: 0.15714284777641296\t \n",
            "Topic: 0.037*\"trump\" + 0.012*\"rural\" + 0.012*\"plan\" + 0.012*\"royal\" + 0.010*\"council\" + 0.010*\"deal\" + 0.010*\"commission\" + 0.010*\"farmers\" + 0.009*\"price\" + 0.009*\"business\"\n",
            "\n",
            "Score: 0.1571388989686966\t \n",
            "Topic: 0.018*\"health\" + 0.016*\"federal\" + 0.012*\"gold\" + 0.012*\"help\" + 0.012*\"coast\" + 0.009*\"public\" + 0.009*\"say\" + 0.009*\"michael\" + 0.009*\"violence\" + 0.009*\"png\"\n",
            "\n",
            "Score: 0.014287732541561127\t \n",
            "Topic: 0.023*\"government\" + 0.013*\"new\" + 0.013*\"school\" + 0.012*\"say\" + 0.012*\"abc\" + 0.011*\"cut\" + 0.010*\"job\" + 0.009*\"minister\" + 0.008*\"morrison\" + 0.008*\"turnbull\"\n",
            "\n",
            "Score: 0.014287663623690605\t \n",
            "Topic: 0.016*\"miss\" + 0.010*\"flood\" + 0.010*\"age\" + 0.010*\"search\" + 0.010*\"nrl\" + 0.009*\"victorian\" + 0.009*\"hobart\" + 0.008*\"ban\" + 0.008*\"afl\" + 0.008*\"sydney\"\n",
            "\n",
            "Score: 0.01428571529686451\t \n",
            "Topic: 0.025*\"man\" + 0.018*\"crash\" + 0.016*\"news\" + 0.015*\"live\" + 0.015*\"kill\" + 0.015*\"canberra\" + 0.015*\"shoot\" + 0.014*\"jail\" + 0.014*\"perth\" + 0.014*\"years\"\n",
            "\n",
            "Score: 0.01428571529686451\t \n",
            "Topic: 0.048*\"australian\" + 0.024*\"donald\" + 0.015*\"interview\" + 0.014*\"break\" + 0.013*\"release\" + 0.012*\"climate\" + 0.012*\"change\" + 0.011*\"water\" + 0.011*\"save\" + 0.010*\"open\"\n",
            "\n",
            "Score: 0.01428571529686451\t \n",
            "Topic: 0.037*\"police\" + 0.027*\"court\" + 0.022*\"charge\" + 0.018*\"murder\" + 0.018*\"face\" + 0.016*\"man\" + 0.014*\"accuse\" + 0.012*\"high\" + 0.012*\"death\" + 0.012*\"trial\"\n"
          ],
          "name": "stdout"
        }
      ]
    },
    {
      "cell_type": "code",
      "metadata": {
        "id": "rpcrrYC-Vgf2",
        "colab_type": "code",
        "colab": {
          "base_uri": "https://localhost:8080/",
          "height": 547
        },
        "outputId": "27037b00-8951-45d9-b47b-dfc51d56f2a2"
      },
      "source": [
        "for index, score in sorted(lda_model_tfidf[bow_corpus[43]], key=lambda tup: -1*tup[1]):\n",
        "    print(\"\\nScore: {}\\t \\nTopic: {}\".format(score, lda_model.print_topic(index, 10)))"
      ],
      "execution_count": 68,
      "outputs": [
        {
          "output_type": "stream",
          "text": [
            "\n",
            "Score: 0.4109349548816681\t \n",
            "Topic: 0.025*\"election\" + 0.022*\"queensland\" + 0.013*\"tasmania\" + 0.012*\"nsw\" + 0.012*\"speak\" + 0.012*\"work\" + 0.011*\"country\" + 0.011*\"power\" + 0.010*\"end\" + 0.010*\"drum\"\n",
            "\n",
            "Score: 0.19113187491893768\t \n",
            "Topic: 0.037*\"trump\" + 0.012*\"rural\" + 0.012*\"plan\" + 0.012*\"royal\" + 0.010*\"council\" + 0.010*\"deal\" + 0.010*\"commission\" + 0.010*\"farmers\" + 0.009*\"price\" + 0.009*\"business\"\n",
            "\n",
            "Score: 0.19041310250759125\t \n",
            "Topic: 0.024*\"win\" + 0.020*\"market\" + 0.018*\"die\" + 0.017*\"world\" + 0.014*\"cup\" + 0.012*\"bank\" + 0.011*\"take\" + 0.009*\"train\" + 0.009*\"beat\" + 0.008*\"scott\"\n",
            "\n",
            "Score: 0.12179766595363617\t \n",
            "Topic: 0.023*\"government\" + 0.013*\"new\" + 0.013*\"school\" + 0.012*\"say\" + 0.012*\"abc\" + 0.011*\"cut\" + 0.010*\"job\" + 0.009*\"minister\" + 0.008*\"morrison\" + 0.008*\"turnbull\"\n",
            "\n",
            "Score: 0.01428811065852642\t \n",
            "Topic: 0.037*\"police\" + 0.027*\"court\" + 0.022*\"charge\" + 0.018*\"murder\" + 0.018*\"face\" + 0.016*\"man\" + 0.014*\"accuse\" + 0.012*\"high\" + 0.012*\"death\" + 0.012*\"trial\"\n",
            "\n",
            "Score: 0.014287513680756092\t \n",
            "Topic: 0.025*\"man\" + 0.018*\"crash\" + 0.016*\"news\" + 0.015*\"live\" + 0.015*\"kill\" + 0.015*\"canberra\" + 0.015*\"shoot\" + 0.014*\"jail\" + 0.014*\"perth\" + 0.014*\"years\"\n",
            "\n",
            "Score: 0.014287061057984829\t \n",
            "Topic: 0.016*\"miss\" + 0.010*\"flood\" + 0.010*\"age\" + 0.010*\"search\" + 0.010*\"nrl\" + 0.009*\"victorian\" + 0.009*\"hobart\" + 0.008*\"ban\" + 0.008*\"afl\" + 0.008*\"sydney\"\n",
            "\n",
            "Score: 0.0142869483679533\t \n",
            "Topic: 0.018*\"health\" + 0.016*\"federal\" + 0.012*\"gold\" + 0.012*\"help\" + 0.012*\"coast\" + 0.009*\"public\" + 0.009*\"say\" + 0.009*\"michael\" + 0.009*\"violence\" + 0.009*\"png\"\n",
            "\n",
            "Score: 0.014286687597632408\t \n",
            "Topic: 0.043*\"australia\" + 0.020*\"day\" + 0.018*\"south\" + 0.017*\"china\" + 0.016*\"north\" + 0.015*\"test\" + 0.010*\"west\" + 0.009*\"war\" + 0.008*\"australias\" + 0.008*\"rescue\"\n",
            "\n",
            "Score: 0.014286049641668797\t \n",
            "Topic: 0.048*\"australian\" + 0.024*\"donald\" + 0.015*\"interview\" + 0.014*\"break\" + 0.013*\"release\" + 0.012*\"climate\" + 0.012*\"change\" + 0.011*\"water\" + 0.011*\"save\" + 0.010*\"open\"\n"
          ],
          "name": "stdout"
        }
      ]
    },
    {
      "cell_type": "code",
      "metadata": {
        "id": "KZC7umjjVoNf",
        "colab_type": "code",
        "colab": {
          "base_uri": "https://localhost:8080/",
          "height": 187
        },
        "outputId": "2eba821a-b5ec-4c19-ba29-2c483f571dc4"
      },
      "source": [
        "unseen_document = 'How a Pentagon deal became an identity crisis for Google'\n",
        "bow_vector = dictionary.doc2bow(preprocess(unseen_document))\n",
        "for index, score in sorted(lda_model[bow_vector], key=lambda tup: -1*tup[1]):\n",
        "    print(\"Score: {}\\t Topic: {}\".format(score, lda_model.print_topic(index, 5)))"
      ],
      "execution_count": 69,
      "outputs": [
        {
          "output_type": "stream",
          "text": [
            "Score: 0.34999018907546997\t Topic: 0.037*\"trump\" + 0.012*\"rural\" + 0.012*\"plan\" + 0.012*\"royal\" + 0.010*\"council\"\n",
            "Score: 0.1833333522081375\t Topic: 0.025*\"man\" + 0.018*\"crash\" + 0.016*\"news\" + 0.015*\"live\" + 0.015*\"kill\"\n",
            "Score: 0.18333333730697632\t Topic: 0.016*\"miss\" + 0.010*\"flood\" + 0.010*\"age\" + 0.010*\"search\" + 0.010*\"nrl\"\n",
            "Score: 0.18333324790000916\t Topic: 0.025*\"election\" + 0.022*\"queensland\" + 0.013*\"tasmania\" + 0.012*\"nsw\" + 0.012*\"speak\"\n",
            "Score: 0.016676558181643486\t Topic: 0.018*\"health\" + 0.016*\"federal\" + 0.012*\"gold\" + 0.012*\"help\" + 0.012*\"coast\"\n",
            "Score: 0.01666666939854622\t Topic: 0.023*\"government\" + 0.013*\"new\" + 0.013*\"school\" + 0.012*\"say\" + 0.012*\"abc\"\n",
            "Score: 0.01666666753590107\t Topic: 0.024*\"win\" + 0.020*\"market\" + 0.018*\"die\" + 0.017*\"world\" + 0.014*\"cup\"\n",
            "Score: 0.01666666753590107\t Topic: 0.043*\"australia\" + 0.020*\"day\" + 0.018*\"south\" + 0.017*\"china\" + 0.016*\"north\"\n",
            "Score: 0.01666666753590107\t Topic: 0.048*\"australian\" + 0.024*\"donald\" + 0.015*\"interview\" + 0.014*\"break\" + 0.013*\"release\"\n",
            "Score: 0.01666666753590107\t Topic: 0.037*\"police\" + 0.027*\"court\" + 0.022*\"charge\" + 0.018*\"murder\" + 0.018*\"face\"\n"
          ],
          "name": "stdout"
        }
      ]
    },
    {
      "cell_type": "code",
      "metadata": {
        "id": "k6wt5ZtrXE0e",
        "colab_type": "code",
        "colab": {}
      },
      "source": [
        ""
      ],
      "execution_count": 0,
      "outputs": []
    },
    {
      "cell_type": "markdown",
      "metadata": {
        "id": "ghOebWgXXOVG",
        "colab_type": "text"
      },
      "source": [
        ""
      ]
    }
  ]
}